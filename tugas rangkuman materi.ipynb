{
 "cells": [
  {
   "cell_type": "markdown",
   "id": "4828ddf8-2a6f-4a89-a6da-356c0ca5e472",
   "metadata": {},
   "source": [
    "## Muhammad Nabil Fahruddin Evan\n",
    "### 103102400053"
   ]
  },
  {
   "cell_type": "markdown",
   "id": "f669c7fd-77a9-491c-84e6-38cf1f8b2bca",
   "metadata": {
    "jp-MarkdownHeadingCollapsed": true
   },
   "source": [
    "### Minggu 1 \n"
   ]
  },
  {
   "cell_type": "code",
   "execution_count": 9,
   "id": "de195f05-5ff5-4177-84fe-3a129f5c3fb7",
   "metadata": {},
   "outputs": [
    {
     "name": "stdout",
     "output_type": "stream",
     "text": [
      "Nama: evan dan Umur: 20\n",
      "Nama:evan dan umur : 20\n",
      "\n",
      "\n",
      "ronaldo\n",
      "dan\n",
      "messi \n"
     ]
    }
   ],
   "source": [
    "#variabel\n",
    "nama = \"evan\"\n",
    "umur = \"20\"\n",
    "\n",
    "#tipe data \n",
    "bilangan_bulat = 10\n",
    "bilangan_desimal = 3.14\n",
    "teks = \"halo,dunia!\"\n",
    "teks_multibaris = '''ronaldo\n",
    "dan\n",
    "messi '''\n",
    "boolean = True\n",
    "\n",
    "# Menampilkan nilai variabel\n",
    "print('Nama:',nama, 'dan Umur:', umur)\n",
    "print(f\"Nama:{nama} dan umur : {umur}\")\n",
    "print('\\n')\n",
    "print(teks_multibaris) "
   ]
  },
  {
   "cell_type": "code",
   "execution_count": 11,
   "id": "f1eb6854-a7c5-4db8-a471-87f4c341b244",
   "metadata": {},
   "outputs": [
    {
     "name": "stdout",
     "output_type": "stream",
     "text": [
      "Nama saya Evan dan Umur saya adalah 18 Tahun dan sedang Berkuliah, di Telkom University Surabaya\n"
     ]
    }
   ],
   "source": [
    "nama = \"Evan\"\n",
    "a = 10; b = 8\n",
    "kesibukan, keterangan = 'Berkuliah','Telkom University Surabaya'\n",
    "print(f\"Nama saya {nama} dan Umur saya adalah {a+b} Tahun dan sedang {kesibukan}, di {keterangan}\")"
   ]
  },
  {
   "cell_type": "markdown",
   "id": "a1d83bb9-8331-4980-9b95-1a55b2add8e1",
   "metadata": {
    "jp-MarkdownHeadingCollapsed": true
   },
   "source": [
    "### Minggu 2"
   ]
  },
  {
   "cell_type": "code",
   "execution_count": 49,
   "id": "00d1cdcf-b55d-448f-a39c-ded6ecdc56f9",
   "metadata": {},
   "outputs": [
    {
     "name": "stdin",
     "output_type": "stream",
     "text": [
      "panjang alas segitiga:  3\n",
      "tinggi segitiga:  4\n"
     ]
    },
    {
     "name": "stdout",
     "output_type": "stream",
     "text": [
      "Luas segitiga adalah:  6.0\n"
     ]
    }
   ],
   "source": [
    "alas=float(input(\"panjang alas segitiga: \"))\n",
    "tinggi=float(input(\"tinggi segitiga: \"))\n",
    "\n",
    "luas=0.5*alas*tinggi\n",
    "\n",
    "print(\"Luas segitiga adalah: \", luas)"
   ]
  },
  {
   "cell_type": "code",
   "execution_count": 51,
   "id": "1b2419c0-c6f4-4f41-b926-e21cffa83692",
   "metadata": {},
   "outputs": [
    {
     "name": "stdin",
     "output_type": "stream",
     "text": [
      "angka pertama:  3\n",
      "angka kedua:  4\n"
     ]
    },
    {
     "name": "stdout",
     "output_type": "stream",
     "text": [
      "hasil penjumlahan:  7\n"
     ]
    }
   ],
   "source": [
    "a=int(input(\"angka pertama: \"))\n",
    "b=int(input(\"angka kedua: \"))\n",
    "\n",
    "c=a+b\n",
    "\n",
    "print(\"hasil penjumlahan: \", c)"
   ]
  },
  {
   "cell_type": "code",
   "execution_count": 55,
   "id": "478c84da-8b57-46fe-8090-65b0e37b5646",
   "metadata": {},
   "outputs": [
    {
     "name": "stdin",
     "output_type": "stream",
     "text": [
      "suhu dalam celcius:  39\n"
     ]
    },
    {
     "name": "stdout",
     "output_type": "stream",
     "text": [
      "suhu dalam farenheit:  102.2\n"
     ]
    }
   ],
   "source": [
    "celcius=float(input(\"suhu dalam celcius: \"))\n",
    "\n",
    "farenheit=(celcius*9/5)+32\n",
    "\n",
    "print(\"suhu dalam farenheit: \", farenheit)"
   ]
  },
  {
   "cell_type": "code",
   "execution_count": 65,
   "id": "dc75d08a-2bda-4cb1-8988-78fadd240d3f",
   "metadata": {},
   "outputs": [
    {
     "name": "stdin",
     "output_type": "stream",
     "text": [
      "masukkan nilai a:  1\n",
      "masukkan nilai b:  2\n",
      "masukkan nilai c:  6\n"
     ]
    },
    {
     "name": "stdout",
     "output_type": "stream",
     "text": [
      "rata-rata dari 3 bilangan bulat tersebut adalah x=5.666666666666667\n"
     ]
    }
   ],
   "source": [
    "a=int(input(\"masukkan nilai a: \"))\n",
    "a=int(input(\"masukkan nilai b: \"))\n",
    "a=int(input(\"masukkan nilai c: \"))\n",
    "\n",
    "x=(a+b+c)/3\n",
    "\n",
    "print(f\"rata-rata dari 3 bilangan bulat tersebut adalah x={x}\")"
   ]
  },
  {
   "cell_type": "code",
   "execution_count": 67,
   "id": "7769de3e-23a8-4157-bca5-6a66184a6f33",
   "metadata": {},
   "outputs": [
    {
     "name": "stdin",
     "output_type": "stream",
     "text": [
      "panjang sisi persegi:  45\n"
     ]
    },
    {
     "name": "stdout",
     "output_type": "stream",
     "text": [
      "luas persegi adalah:  2025.0\n",
      "keliling persegi adalah:  180.0\n"
     ]
    }
   ],
   "source": [
    "sisi=float(input(\"panjang sisi persegi: \"))\n",
    "\n",
    "luas=sisi*sisi\n",
    "keliling=4*sisi\n",
    "\n",
    "print(\"luas persegi adalah: \", luas)\n",
    "print(\"keliling persegi adalah: \", keliling)"
   ]
  },
  {
   "cell_type": "markdown",
   "id": "e7d2ff8f-2602-4992-b8b8-1dc1c23dc4bc",
   "metadata": {
    "jp-MarkdownHeadingCollapsed": true
   },
   "source": [
    "### Tugas pemrograman NIM ganjil"
   ]
  },
  {
   "cell_type": "code",
   "execution_count": 70,
   "id": "ceb96709-fc6e-4728-8f4e-7903a297e129",
   "metadata": {},
   "outputs": [
    {
     "name": "stdin",
     "output_type": "stream",
     "text": [
      "Masukkan gaji per jam:  40000\n",
      "Masukkan jumlah jam kerja dalam 1 minggu:  70\n"
     ]
    },
    {
     "name": "stdout",
     "output_type": "stream",
     "text": [
      "Pendapatan Budi selama libur musim panas sebelum melakukan pembayaran pajak adalah  14000000.0\n",
      "Pendapatan Budi selama libur musim panas setelah melakukan pembayaran pajak adalah 12040000.0\n",
      "Jumlah uang yang akan Budi habiskan untuk membeli pakaian dan aksesoris adalah  1204000.0\n",
      "Jumlah uang yang akan Budi habiskan untuk membeli alat tulis adalah 120400.0\n",
      "Jumlah uang yang akan Budi sedekahkan adalah 2678900.0\n",
      "Jumlah uang yang akan diterima anak yatim adalah 803670.0\n",
      "Jumlah uang yang akan diterima kaum dhuafa adalah 1875229.9999999998\n",
      "jumlah uang akhir milik budi adalah : 8036700.0\n"
     ]
    }
   ],
   "source": [
    " gaji = float(input(\"Masukkan gaji per jam: \"))\n",
    "jam_kerja = float(input(\"Masukkan jumlah jam kerja dalam 1 minggu: \"))\n",
    "\n",
    "hasil = (gaji*jam_kerja)\n",
    "gaji_kotor = gaji * jam_kerja * 5\n",
    "pajak = gaji_kotor * 0.14\n",
    "gaji_bersih = gaji_kotor - pajak\n",
    "baju = gaji_bersih * 0.1\n",
    "alat_tulis = gaji_bersih * 0.01\n",
    "sisa_uang = gaji_bersih - baju - alat_tulis\n",
    "sedekah = sisa_uang * 0.25\n",
    "anak_yatim = sedekah * 0.3\n",
    "orang_dhuafa = sedekah * 0.7\n",
    "uang_akhir = sisa_uang - (anak_yatim + orang_dhuafa)\n",
    "\n",
    "print (\"Pendapatan Budi selama libur musim panas sebelum melakukan pembayaran pajak adalah \", gaji_kotor) \n",
    "print(\"Pendapatan Budi selama libur musim panas setelah melakukan pembayaran pajak adalah\", gaji_bersih) \n",
    "print(\"Jumlah uang yang akan Budi habiskan untuk membeli pakaian dan aksesoris adalah \", baju)\n",
    "print(\"Jumlah uang yang akan Budi habiskan untuk membeli alat tulis adalah\", alat_tulis)\n",
    "print(\"Jumlah uang yang akan Budi sedekahkan adalah\", sedekah)\n",
    "print(\"Jumlah uang yang akan diterima anak yatim adalah\",anak_yatim)\n",
    "print(\"Jumlah uang yang akan diterima kaum dhuafa adalah\",orang_dhuafa)\n",
    "print(\"jumlah uang akhir milik budi adalah :\", uang_akhir)\n"
   ]
  },
  {
   "cell_type": "markdown",
   "id": "e6fc4660-3452-448f-9451-55e6087b759d",
   "metadata": {
    "jp-MarkdownHeadingCollapsed": true
   },
   "source": [
    "### Minggu 4\n"
   ]
  },
  {
   "cell_type": "code",
   "execution_count": 74,
   "id": "a5c58297-7bff-4123-9bf1-ac77213814a2",
   "metadata": {},
   "outputs": [
    {
     "name": "stdout",
     "output_type": "stream",
     "text": [
      "perulangan ke- 0\n",
      "perulangan ke- 1\n",
      "perulangan ke- 2\n",
      "perulangan ke- 3\n",
      "perulangan ke- 4\n"
     ]
    }
   ],
   "source": [
    "ulang=5\n",
    "for i in range(ulang) :\n",
    "    print(\"perulangan ke-\",i)"
   ]
  },
  {
   "cell_type": "code",
   "execution_count": 76,
   "id": "2a9c3bf3-47bf-4e1a-9ed4-3ee6798fe2bd",
   "metadata": {},
   "outputs": [
    {
     "name": "stdin",
     "output_type": "stream",
     "text": [
      "masukan data: 7\n",
      "masukan data: 4\n",
      "masukan data: 5\n",
      "masukan data: 8\n",
      "masukan data: 6\n"
     ]
    }
   ],
   "source": [
    "x=[]\n",
    "n=5\n",
    "for i in range(n) : \n",
    "    x.append(float(input(\"masukan data:\")))"
   ]
  },
  {
   "cell_type": "code",
   "execution_count": 78,
   "id": "496e9066-458b-46c9-bc73-f5a631a60c6e",
   "metadata": {},
   "outputs": [
    {
     "name": "stdout",
     "output_type": "stream",
     "text": [
      "2\n",
      "3\n",
      "4\n",
      "5\n",
      "6\n"
     ]
    }
   ],
   "source": [
    "for i in range (5):\n",
    "    i+=2\n",
    "    print(i)"
   ]
  },
  {
   "cell_type": "code",
   "execution_count": 80,
   "id": "cbc9e518-80b2-4339-8027-327ffcd6be79",
   "metadata": {},
   "outputs": [
    {
     "name": "stdout",
     "output_type": "stream",
     "text": [
      "1\n",
      "2\n",
      "3\n",
      "4\n",
      "done ga bang?\n",
      "DONE!!!!\n"
     ]
    }
   ],
   "source": [
    "for i in range(1,5):\n",
    "    print(i)\n",
    "    \n",
    "else:\n",
    "    print(\"done ga bang?\")\n",
    "    print(\"DONE!!!!\")\n",
    "        "
   ]
  },
  {
   "cell_type": "code",
   "execution_count": 82,
   "id": "d5cbe850-e8c9-416a-8eb6-44b7c6616de7",
   "metadata": {},
   "outputs": [
    {
     "name": "stdout",
     "output_type": "stream",
     "text": [
      "1\n",
      "3\n",
      "5\n",
      "7\n",
      "9\n"
     ]
    }
   ],
   "source": [
    "for i in range(1,10,2):\n",
    "    print(i)"
   ]
  },
  {
   "cell_type": "code",
   "execution_count": 84,
   "id": "44b8e8f0-7d46-4fc1-9bc4-7cd12fdd2ab7",
   "metadata": {},
   "outputs": [
    {
     "name": "stdout",
     "output_type": "stream",
     "text": [
      "v\n",
      "i\n",
      "n\n",
      "s\n",
      "e\n",
      "n\n",
      "g\n"
     ]
    }
   ],
   "source": [
    "for i in \"vinseng\":\n",
    "    print(i)"
   ]
  },
  {
   "cell_type": "code",
   "execution_count": 86,
   "id": "af7a34bb-8db5-4e97-9595-600a46fd7e89",
   "metadata": {},
   "outputs": [
    {
     "name": "stdout",
     "output_type": "stream",
     "text": [
      "1\n",
      "3\n",
      "8\n",
      "10\n"
     ]
    }
   ],
   "source": [
    "x=[1,3,8,10]\n",
    "for i in x:\n",
    "    print(i)\n",
    "    "
   ]
  },
  {
   "cell_type": "code",
   "execution_count": 88,
   "id": "0a2ebfb6-b1bd-4722-8889-924fd77aae78",
   "metadata": {},
   "outputs": [
    {
     "name": "stdout",
     "output_type": "stream",
     "text": [
      "haha\n",
      "hihi\n",
      "huhu\n",
      "hehe\n",
      "hoho\n"
     ]
    }
   ],
   "source": [
    "manuk=[\"haha\",\"hihi\",\"huhu\",\"hehe\",\"hoho\"]\n",
    "for i in manuk:\n",
    "    print(i)"
   ]
  },
  {
   "cell_type": "code",
   "execution_count": 90,
   "id": "b4254b56-ae73-4913-b291-4a03f46c90a1",
   "metadata": {},
   "outputs": [
    {
     "name": "stdout",
     "output_type": "stream",
     "text": [
      "2\n",
      "4\n",
      "6\n",
      "8\n",
      "10\n"
     ]
    }
   ],
   "source": [
    "for i in range (1,10,2) :\n",
    "    i+=1\n",
    "    print (i)\n",
    "    "
   ]
  },
  {
   "cell_type": "code",
   "execution_count": 92,
   "id": "d4f35a48-b4b2-42b0-8d6e-da15fff0878d",
   "metadata": {},
   "outputs": [
    {
     "name": "stdout",
     "output_type": "stream",
     "text": [
      "1\n",
      "3\n",
      "6\n",
      "10\n",
      "15\n",
      "21\n",
      "28\n",
      "36\n",
      "45\n",
      "55\n"
     ]
    }
   ],
   "source": [
    "sum=0\n",
    "for i in range (1,11) :\n",
    "    sum+=i\n",
    "    print (sum)\n",
    "    \n",
    "    "
   ]
  },
  {
   "cell_type": "code",
   "execution_count": 94,
   "id": "b8f7a14d-ca23-426e-8c4e-88784d9ef4fa",
   "metadata": {},
   "outputs": [
    {
     "name": "stdin",
     "output_type": "stream",
     "text": [
      "masukan jumlah data: 5\n",
      "masukan data: 6\n",
      "masukan data: 9\n",
      "masukan data: 3\n",
      "masukan data: 2\n",
      "masukan data: 5\n"
     ]
    },
    {
     "name": "stdout",
     "output_type": "stream",
     "text": [
      "data kamu adalah [6.0, 9.0, 3.0, 2.0, 5.0]\n"
     ]
    }
   ],
   "source": [
    "n= int(input(\"masukan jumlah data:\"))\n",
    "list_data=[float(input(\"masukan data:\")) for _ in range (n)]\n",
    "print(\"data kamu adalah\",list_data)"
   ]
  },
  {
   "cell_type": "code",
   "execution_count": 98,
   "id": "5e9d209b-402a-4ecc-a24a-63de4eda7038",
   "metadata": {},
   "outputs": [
    {
     "name": "stdin",
     "output_type": "stream",
     "text": [
      "masukan data 1\n"
     ]
    },
    {
     "name": "stdout",
     "output_type": "stream",
     "text": [
      "data kamu adalah [1.0]\n"
     ]
    },
    {
     "name": "stdin",
     "output_type": "stream",
     "text": [
      "masukan data 2\n"
     ]
    },
    {
     "name": "stdout",
     "output_type": "stream",
     "text": [
      "data kamu adalah [1.0, 2.0]\n"
     ]
    },
    {
     "name": "stdin",
     "output_type": "stream",
     "text": [
      "masukan data 3\n"
     ]
    },
    {
     "name": "stdout",
     "output_type": "stream",
     "text": [
      "data kamu adalah [1.0, 2.0, 3.0]\n"
     ]
    },
    {
     "name": "stdin",
     "output_type": "stream",
     "text": [
      "masukan data 4\n"
     ]
    },
    {
     "name": "stdout",
     "output_type": "stream",
     "text": [
      "data kamu adalah [1.0, 2.0, 3.0, 4.0]\n"
     ]
    },
    {
     "name": "stdin",
     "output_type": "stream",
     "text": [
      "masukan data 5\n"
     ]
    },
    {
     "name": "stdout",
     "output_type": "stream",
     "text": [
      "data kamu adalah [1.0, 2.0, 3.0, 4.0, 5.0]\n"
     ]
    }
   ],
   "source": [
    "list_data=[]\n",
    "for i in range(5):\n",
    "    list_data.append(float(input(\"masukan data\")))\n",
    "    print(\"data kamu adalah\",list_data)\n",
    "    "
   ]
  },
  {
   "cell_type": "code",
   "execution_count": 100,
   "id": "8f325012-dce2-4e74-9875-9c9189b75be3",
   "metadata": {},
   "outputs": [
    {
     "name": "stdout",
     "output_type": "stream",
     "text": [
      "1 x 1 = 1\n",
      "\n",
      "1 x 2 = 2\n",
      "\n",
      "1 x 3 = 3\n",
      "\n",
      "1 x 4 = 4\n",
      "\n",
      "1 x 5 = 5\n",
      "\n",
      "1 x 6 = 6\n",
      "\n",
      "1 x 7 = 7\n",
      "\n",
      "1 x 8 = 8\n",
      "\n",
      "1 x 9 = 9\n",
      "\n",
      "1 x 10 = 10\n",
      "\n",
      "2 x 1 = 2\n",
      "\n",
      "2 x 2 = 4\n",
      "\n",
      "2 x 3 = 6\n",
      "\n",
      "2 x 4 = 8\n",
      "\n",
      "2 x 5 = 10\n",
      "\n",
      "2 x 6 = 12\n",
      "\n",
      "2 x 7 = 14\n",
      "\n",
      "2 x 8 = 16\n",
      "\n",
      "2 x 9 = 18\n",
      "\n",
      "2 x 10 = 20\n",
      "\n",
      "3 x 1 = 3\n",
      "\n",
      "3 x 2 = 6\n",
      "\n",
      "3 x 3 = 9\n",
      "\n",
      "3 x 4 = 12\n",
      "\n",
      "3 x 5 = 15\n",
      "\n",
      "3 x 6 = 18\n",
      "\n",
      "3 x 7 = 21\n",
      "\n",
      "3 x 8 = 24\n",
      "\n",
      "3 x 9 = 27\n",
      "\n",
      "3 x 10 = 30\n",
      "\n",
      "4 x 1 = 4\n",
      "\n",
      "4 x 2 = 8\n",
      "\n",
      "4 x 3 = 12\n",
      "\n",
      "4 x 4 = 16\n",
      "\n",
      "4 x 5 = 20\n",
      "\n",
      "4 x 6 = 24\n",
      "\n",
      "4 x 7 = 28\n",
      "\n",
      "4 x 8 = 32\n",
      "\n",
      "4 x 9 = 36\n",
      "\n",
      "4 x 10 = 40\n",
      "\n",
      "5 x 1 = 5\n",
      "\n",
      "5 x 2 = 10\n",
      "\n",
      "5 x 3 = 15\n",
      "\n",
      "5 x 4 = 20\n",
      "\n",
      "5 x 5 = 25\n",
      "\n",
      "5 x 6 = 30\n",
      "\n",
      "5 x 7 = 35\n",
      "\n",
      "5 x 8 = 40\n",
      "\n",
      "5 x 9 = 45\n",
      "\n",
      "5 x 10 = 50\n",
      "\n",
      "awikwok\n"
     ]
    }
   ],
   "source": [
    "for i in range (1,6) :\n",
    "    for j in range (1,11):\n",
    "        print (i,\"x\",j,\"=\",i*j)\n",
    "        print()\n",
    "print(\"awikwok\")"
   ]
  },
  {
   "cell_type": "code",
   "execution_count": 102,
   "id": "9526696e-073e-47ab-8d38-c4b994164609",
   "metadata": {},
   "outputs": [
    {
     "name": "stdin",
     "output_type": "stream",
     "text": [
      "masukan jumlah baris: 5\n"
     ]
    },
    {
     "name": "stdout",
     "output_type": "stream",
     "text": [
      "1  \n",
      "1 2  \n",
      "1 2 3  \n",
      "1 2 3 4  \n",
      "1 2 3 4 5  \n"
     ]
    }
   ],
   "source": [
    "n= int(input(\"masukan jumlah baris:\"))\n",
    "for i in range (n):\n",
    "    for j in range (i+1):\n",
    "        print(j+1,end=\" \") \n",
    "    print(' ')\n",
    "    "
   ]
  },
  {
   "cell_type": "code",
   "execution_count": 106,
   "id": "7789ee3f-90b4-4ab3-a64c-09a96eb75a54",
   "metadata": {},
   "outputs": [
    {
     "name": "stdin",
     "output_type": "stream",
     "text": [
      "masukan banyak data 7\n",
      "masukan data: 4\n"
     ]
    },
    {
     "name": "stdout",
     "output_type": "stream",
     "text": [
      "0\n"
     ]
    },
    {
     "name": "stdin",
     "output_type": "stream",
     "text": [
      "masukan data: 3\n"
     ]
    },
    {
     "name": "stdout",
     "output_type": "stream",
     "text": [
      "1\n"
     ]
    },
    {
     "name": "stdin",
     "output_type": "stream",
     "text": [
      "masukan data: 2\n"
     ]
    },
    {
     "name": "stdout",
     "output_type": "stream",
     "text": [
      "2\n"
     ]
    },
    {
     "name": "stdin",
     "output_type": "stream",
     "text": [
      "masukan data: 1\n"
     ]
    },
    {
     "name": "stdout",
     "output_type": "stream",
     "text": [
      "3\n"
     ]
    },
    {
     "name": "stdin",
     "output_type": "stream",
     "text": [
      "masukan data: 5\n"
     ]
    },
    {
     "name": "stdout",
     "output_type": "stream",
     "text": [
      "4\n"
     ]
    },
    {
     "name": "stdin",
     "output_type": "stream",
     "text": [
      "masukan data: 6\n"
     ]
    },
    {
     "name": "stdout",
     "output_type": "stream",
     "text": [
      "5\n"
     ]
    },
    {
     "name": "stdin",
     "output_type": "stream",
     "text": [
      "masukan data: 3\n"
     ]
    },
    {
     "name": "stdout",
     "output_type": "stream",
     "text": [
      "6\n",
      "3.4285714285714284\n"
     ]
    }
   ],
   "source": [
    "list_data=[]\n",
    "n=int(input(\"masukan banyak data\"))\n",
    "for i in range(n):\n",
    "    list_data.append(float(input(\"masukan data:\")))\n",
    "    print(i)\n",
    "\n",
    "total=0\n",
    "for number in list_data :\n",
    "    total+= number\n",
    "\n",
    "avr= total / n \n",
    "print (avr)\n",
    "    "
   ]
  },
  {
   "cell_type": "markdown",
   "id": "b5a8d521-6f4a-4abc-a874-638ffe967502",
   "metadata": {
    "jp-MarkdownHeadingCollapsed": true
   },
   "source": [
    "### Minggu 7\n"
   ]
  },
  {
   "cell_type": "code",
   "execution_count": 109,
   "id": "6a158312-b715-4eed-b4df-047f37ca74bb",
   "metadata": {},
   "outputs": [
    {
     "name": "stdout",
     "output_type": "stream",
     "text": [
      "Pendapatan dari buku A: 150 ribu IDR\n",
      "Pendapatan dari buku B: 75 ribu IDR\n",
      "Pendapatan dari buku C: 160 ribu IDR\n",
      "Pendapatan dari buku D: 200 ribu IDR\n",
      "Pendapatan dari buku D: 200 ribu IDR\n",
      "Total pendapatan dari penjualan semua buku : 795 ribu IDR\n"
     ]
    }
   ],
   "source": [
    "a=30\n",
    "b=25\n",
    "c=40\n",
    "d=20\n",
    "e=35\n",
    "\n",
    "sa=a*5\n",
    "sb=b*3\n",
    "sc=c*4\n",
    "sd=d*10\n",
    "se=e*6\n",
    "\n",
    "print(\"Pendapatan dari buku A:\",sa, \"ribu IDR\")\n",
    "print(\"Pendapatan dari buku B:\",sb, \"ribu IDR\")\n",
    "print(\"Pendapatan dari buku C:\",sc, \"ribu IDR\")\n",
    "print(\"Pendapatan dari buku D:\",sd, \"ribu IDR\")\n",
    "print(\"Pendapatan dari buku D:\",sd, \"ribu IDR\")\n",
    "\n",
    "total= sa+sb+sc+sd+se\n",
    "print(\"Total pendapatan dari penjualan semua buku :\", total, \"ribu IDR\")"
   ]
  },
  {
   "cell_type": "code",
   "execution_count": 112,
   "id": "c7ad3fd1-de38-404f-a5d5-d17174a4d9ef",
   "metadata": {},
   "outputs": [
    {
     "name": "stdout",
     "output_type": "stream",
     "text": [
      "Total pengunjung selama seminggu: 215\n",
      "Rata-rata jumlah pengunjung per hari: 30.71\n",
      "Hari dengan pengunjung terbanyak: Minggu dengan 50 pengunjung\n"
     ]
    }
   ],
   "source": [
    "pengunjung = { \"Senin\": 20, \"Selasa\": 25, \"Rabu\": 30, \"Kamis\": 15, \"Jumat\": 40, \"Sabtu\": 50, \"Minggu\": 35 } \n",
    "total_pengunjung = 0\n",
    "for hari in pengunjung:\n",
    "    total_pengunjung += pengunjung[hari]\n",
    "rata_rata_pengunjung = total_pengunjung / len(pengunjung)  \n",
    "hari_terbanyak = \"\" \n",
    "jumlah_terbanyak = 0 \n",
    "for hari in pengunjung:\n",
    "    if pengunjung[hari] > jumlah_terbanyak:\n",
    "        jumlah_terbanyak = pengunjung[hari]\n",
    "hari_terbanyak = hari\n",
    "print(f\"Total pengunjung selama seminggu: {total_pengunjung}\")\n",
    "print(f\"Rata-rata jumlah pengunjung per hari: {rata_rata_pengunjung:.2f}\")\n",
    "print(f\"Hari dengan pengunjung terbanyak: {hari_terbanyak} dengan {jumlah_terbanyak} pengunjung\")"
   ]
  },
  {
   "cell_type": "code",
   "execution_count": 114,
   "id": "22f5e83f-3c39-4f8e-b78a-f749ad5a9a0c",
   "metadata": {},
   "outputs": [
    {
     "name": "stdin",
     "output_type": "stream",
     "text": [
      "cek angka 4\n"
     ]
    },
    {
     "name": "stdout",
     "output_type": "stream",
     "text": [
      "genap\n",
      "bukan kelipatan 5\n"
     ]
    }
   ],
   "source": [
    "nilai = int(input(\"cek angka\"))\n",
    "if nilai % 2==0:\n",
    "              print(\"genap\")\n",
    "else:\n",
    "              print(\"ganjil\")\n",
    "if nilai % 5==0:\n",
    "                    print(\"kelipatan 5\")\n",
    "else:\n",
    "    print(\"bukan kelipatan 5\")"
   ]
  },
  {
   "cell_type": "code",
   "execution_count": 120,
   "id": "4e07aac2-2a1a-44fc-a87b-621542e46c25",
   "metadata": {},
   "outputs": [
    {
     "name": "stdin",
     "output_type": "stream",
     "text": [
      "nilai  5\n"
     ]
    },
    {
     "name": "stdout",
     "output_type": "stream",
     "text": [
      "grade E\n"
     ]
    }
   ],
   "source": [
    "nilai = int(input(\"nilai \"))\n",
    "if nilai >=90 and nilai <=100: \n",
    "    print(\"grade A\")\n",
    "elif nilai >=80 and nilai <=90:\n",
    "    print(\"grade B+\")\n",
    "elif nilai >=70 and nilai <=80:\n",
    "    print(\"grade B\")\n",
    "elif nilai >=60 and nilai <=70:\n",
    "    print(\"grade C+\")\n",
    "elif nilai >=50:\n",
    "    print(\"grade C\")\n",
    "elif nilai >=40:\n",
    "    print(\"grade D\")\n",
    "elif nilai<=30:\n",
    "    print(\"grade E\")\n",
    "    "
   ]
  },
  {
   "cell_type": "code",
   "execution_count": 124,
   "id": "e5d05e3d-287d-4d1b-8a45-b34af63c12f0",
   "metadata": {},
   "outputs": [
    {
     "name": "stdin",
     "output_type": "stream",
     "text": [
      "usia 19\n",
      "tinggi 23\n",
      "jumlah pembelian 100000\n"
     ]
    },
    {
     "name": "stdout",
     "output_type": "stream",
     "text": [
      "ga boleh naik wahana\n"
     ]
    },
    {
     "ename": "NameError",
     "evalue": "name 'member' is not defined",
     "output_type": "error",
     "traceback": [
      "\u001b[1;31m---------------------------------------------------------------------------\u001b[0m",
      "\u001b[1;31mNameError\u001b[0m                                 Traceback (most recent call last)",
      "Cell \u001b[1;32mIn[124], line 9\u001b[0m\n\u001b[0;32m      6\u001b[0m \u001b[38;5;28;01melse\u001b[39;00m:\n\u001b[0;32m      7\u001b[0m     \u001b[38;5;28mprint\u001b[39m(\u001b[38;5;124m\"\u001b[39m\u001b[38;5;124mga boleh naik wahana\u001b[39m\u001b[38;5;124m\"\u001b[39m)\n\u001b[1;32m----> 9\u001b[0m \u001b[38;5;28;01mif\u001b[39;00m member \u001b[38;5;241m==\u001b[39m \u001b[38;5;28;01mTrue\u001b[39;00m \u001b[38;5;129;01mor\u001b[39;00m pembelian \u001b[38;5;241m>\u001b[39m \u001b[38;5;241m500000\u001b[39m:\n\u001b[0;32m     10\u001b[0m     \u001b[38;5;28mprint\u001b[39m(\u001b[38;5;124m\"\u001b[39m\u001b[38;5;124mdapet diskon\u001b[39m\u001b[38;5;124m\"\u001b[39m)\n\u001b[0;32m     11\u001b[0m \u001b[38;5;28;01melse\u001b[39;00m:\n",
      "\u001b[1;31mNameError\u001b[0m: name 'member' is not defined"
     ]
    }
   ],
   "source": [
    "usia = int(input(\"usia\"))\n",
    "tinggi = int(input(\"tinggi\"))\n",
    "pembelian= int(input(\"jumlah pembelian\"))\n",
    "if usia >= 10 and tinggi >=110:\n",
    "    print(\"boleh naik wahana\")\n",
    "else:\n",
    "    print(\"ga boleh naik wahana\")\n",
    "    \n",
    "if member == True or pembelian > 500000:\n",
    "    print(\"dapet diskon\")\n",
    "else:\n",
    "    print(\"ga dapet diskon\")"
   ]
  },
  {
   "cell_type": "code",
   "execution_count": 126,
   "id": "506ea6d2-477c-4934-b0be-dea1b2c75ce6",
   "metadata": {},
   "outputs": [
    {
     "name": "stdout",
     "output_type": "stream",
     "text": [
      "1\n",
      "2\n",
      "3\n",
      "4\n",
      "5\n",
      "6\n",
      "7\n",
      "8\n",
      "9\n",
      "10\n"
     ]
    }
   ],
   "source": [
    "for i in range (1,1000):\n",
    "    print(i)\n",
    "    if i == 10:\n",
    "        break "
   ]
  },
  {
   "cell_type": "code",
   "execution_count": 130,
   "id": "e384159b-c2ab-48d3-82dc-4fbaf09dcbca",
   "metadata": {},
   "outputs": [
    {
     "name": "stdin",
     "output_type": "stream",
     "text": [
      "masukan nilai 4\n"
     ]
    },
    {
     "name": "stdout",
     "output_type": "stream",
     "text": [
      "1 \n",
      "2 2 \n",
      "3 3 3 \n",
      "4 4 4 4 \n"
     ]
    }
   ],
   "source": [
    "n= int(input(\"masukan nilai\"))\n",
    "for i in range (1,n+1):\n",
    "    for j in range (1,i+1):\n",
    "        print(i, end = ' ')\n",
    "    print()"
   ]
  },
  {
   "cell_type": "code",
   "execution_count": 136,
   "id": "7844e5b0-d03e-43d3-886f-64849648c1ba",
   "metadata": {},
   "outputs": [
    {
     "name": "stdin",
     "output_type": "stream",
     "text": [
      "masukan nilai 10\n"
     ]
    },
    {
     "name": "stdout",
     "output_type": "stream",
     "text": [
      "1  2  3  4  5  \n",
      "6  7  8  9  10  \n",
      "11  12  13  14  15  \n",
      "16  17  18  19  20  \n",
      "21  22  23  24  25  \n",
      "26  27  28  29  30  \n",
      "31  32  33  34  35  \n",
      "36  37  38  39  40  \n",
      "41  42  43  44  45  \n",
      "46  47  48  49  50  \n"
     ]
    }
   ],
   "source": [
    "n= int(input(\"masukan nilai\"))\n",
    "angka =1 \n",
    "for i in range (1,n+1):\n",
    "    for j in range (5):\n",
    "        print(angka,\"\", end = ' ')\n",
    "        angka +=1\n",
    "    print()"
   ]
  },
  {
   "cell_type": "code",
   "execution_count": null,
   "id": "87d0e130-d06b-48ae-8792-c05fcade23ca",
   "metadata": {},
   "outputs": [],
   "source": []
  }
 ],
 "metadata": {
  "kernelspec": {
   "display_name": "Python 3 (ipykernel)",
   "language": "python",
   "name": "python3"
  },
  "language_info": {
   "codemirror_mode": {
    "name": "ipython",
    "version": 3
   },
   "file_extension": ".py",
   "mimetype": "text/x-python",
   "name": "python",
   "nbconvert_exporter": "python",
   "pygments_lexer": "ipython3",
   "version": "3.12.4"
  }
 },
 "nbformat": 4,
 "nbformat_minor": 5
}
